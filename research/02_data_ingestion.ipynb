{
 "cells": [
  {
   "cell_type": "code",
   "execution_count": 1,
   "id": "ac323bcd",
   "metadata": {},
   "outputs": [
    {
     "data": {
      "text/plain": [
       "'c:\\\\Projects\\\\FinSight'"
      ]
     },
     "execution_count": 1,
     "metadata": {},
     "output_type": "execute_result"
    }
   ],
   "source": [
    "import os\n",
    "%pwd\n",
    "os.chdir('../')\n",
    "%pwd"
   ]
  },
  {
   "cell_type": "code",
   "execution_count": 2,
   "id": "cec5d704",
   "metadata": {},
   "outputs": [],
   "source": [
    "# src/finance_ml/entity/config_entity.py\n",
    "\n",
    "from dataclasses import dataclass\n",
    "\n",
    "@dataclass(frozen=True)\n",
    "class DataIngestionConfig:\n",
    "    root_dir: str\n",
    "    raw_data_file: str\n",
    "    period: str\n",
    "    interval: str"
   ]
  },
  {
   "cell_type": "code",
   "execution_count": 3,
   "id": "2087e835",
   "metadata": {},
   "outputs": [],
   "source": [
    "# src/finance_ml/config/configuration.py\n",
    "\n",
    "from finance_ml.constants import *\n",
    "from finance_ml.utils.common import read_yaml, create_directories\n",
    "from finance_ml.entity.config_entity import DataIngestionConfig\n",
    "import os\n",
    "\n",
    "class ConfigurationManager:\n",
    "    def __init__(\n",
    "        self,\n",
    "        config_filepath=CONFIG_FILE_PATH,\n",
    "        params_filepath=PARAMS_FILE_PATH,\n",
    "        schema_filepath=SCHEMA_FILE_PATH\n",
    "    ):\n",
    "        self.config = read_yaml(config_filepath)\n",
    "        self.params = read_yaml(params_filepath)\n",
    "        self.schema = read_yaml(schema_filepath)\n",
    "\n",
    "        create_directories([self.config.artifacts_root])\n",
    "\n",
    "    def get_data_ingestion_config(self) -> DataIngestionConfig:\n",
    "        config = self.config.data_ingestion\n",
    "        params = self.params.data_ingestion # Access data_ingestion params from params.yaml\n",
    "\n",
    "        create_directories([config.root_dir])\n",
    "\n",
    "        data_ingestion_config = DataIngestionConfig(\n",
    "            root_dir=config.root_dir,\n",
    "            raw_data_file=os.path.join(config.root_dir, config.raw_data_file), \n",
    "            period=params.period,     \n",
    "            interval=params.interval  \n",
    "        )\n",
    "\n",
    "        return data_ingestion_config"
   ]
  },
  {
   "cell_type": "code",
   "execution_count": 4,
   "id": "18fbc8aa",
   "metadata": {},
   "outputs": [],
   "source": [
    "#src/finance_ml/components/data_ingestion.py\n",
    "import yfinance as yf\n",
    "import pandas as pd\n",
    "from src.finance_ml import logger\n",
    "from src.finance_ml.entity.config_entity import DataIngestionConfig\n",
    "\n",
    "class DataIngestion:\n",
    "    def __init__(self, config: DataIngestionConfig, ticker: str):\n",
    "        self.config = config\n",
    "        self.ticker = ticker\n",
    "\n",
    "    def download_data(self):\n",
    "        logger.info(f\"Downloading data for {self.ticker}\")\n",
    "        df = yf.download(\n",
    "            tickers=self.ticker,\n",
    "            period=self.config.period,\n",
    "            interval=self.config.interval\n",
    "        )\n",
    "        df.to_csv(self.config.raw_data_file)\n",
    "        logger.info(f\"Data saved to {self.config.raw_data_file}\")\n"
   ]
  },
  {
   "cell_type": "code",
   "execution_count": 5,
   "id": "bcc4bb15",
   "metadata": {},
   "outputs": [],
   "source": [
    "#src/finance_ml/pipeline/stage_01_data_ingestion.py\n",
    "\n",
    "from src.finance_ml.config.configuration import ConfigurationManager\n",
    "from src.finance_ml.components.data_ingestion import DataIngestion\n",
    "from src.finance_ml import logger\n",
    "\n",
    "STAGE_NAME = \"Data Ingestion stage\"\n",
    "\n",
    "class DataIngestionTrainingPipeline:\n",
    "    def __init__(self, ticker: str):\n",
    "        self.ticker = ticker\n",
    "\n",
    "    def main(self):\n",
    "        config = ConfigurationManager()\n",
    "        data_config = config.get_data_ingestion_config()\n",
    "\n",
    "        data_ingestor = DataIngestion(config=data_config, ticker=self.ticker)\n",
    "        data_ingestor.download_data()\n"
   ]
  },
  {
   "cell_type": "code",
   "execution_count": null,
   "id": "472bdd07",
   "metadata": {},
   "outputs": [],
   "source": []
  }
 ],
 "metadata": {
  "kernelspec": {
   "display_name": "FinSight",
   "language": "python",
   "name": "python3"
  },
  "language_info": {
   "codemirror_mode": {
    "name": "ipython",
    "version": 3
   },
   "file_extension": ".py",
   "mimetype": "text/x-python",
   "name": "python",
   "nbconvert_exporter": "python",
   "pygments_lexer": "ipython3",
   "version": "3.13.3"
  }
 },
 "nbformat": 4,
 "nbformat_minor": 5
}
