{
 "cells": [
  {
   "cell_type": "code",
   "execution_count": null,
   "id": "ddec6cdf",
   "metadata": {},
   "outputs": [],
   "source": [
    "from phi.agent import Agent\n",
    "from phi.model.groq import Groq\n",
    "from phi.model.openai import OpenAIChat\n",
    "from phi.tools.yfinance import YFinanceTools\n",
    "from phi.tools.duckduckgo import DuckDuckGo\n",
    "from datetime import datetime"
   ]
  },
  {
   "cell_type": "code",
   "execution_count": null,
   "id": "aa7a55f9",
   "metadata": {},
   "outputs": [],
   "source": [
    "today = datetime.now().strftime(\"%B %d, %Y\")\n",
    "\n",
    "web_agent = Agent(\n",
    "    name=\"WebAgent\",\n",
    "    role=\"Market research expert\",\n",
    "    model=Groq(id=\"meta-llama/llama-4-scout-17b-16e-instruct\"),\n",
    "    tools=[DuckDuckGo()],\n",
    "    instructions=[\n",
    "    f\"You are a web analyst. Search current news (as of {today}) to identify Indian stocks showing bullish trends today. Focus on companies with positive momentum, news, or sentiment.\"\n",
    "    ],\n",
    "    show_tools_calls=True,\n",
    "    markdown=True,\n",
    "    )\n"
   ]
  },
  {
   "cell_type": "code",
   "execution_count": null,
   "id": "22edbd62",
   "metadata": {},
   "outputs": [],
   "source": [
    "finance_agent = Agent(\n",
    "        name=\"FinanceAnalyst\",\n",
    "        role=\"Finance analyst expert\",\n",
    "        model=OpenAIChat(id=\"gpt-4o\"),\n",
    "        tools=[\n",
    "            YFinanceTools(\n",
    "                company_news=True,\n",
    "                technical_indicators=True,\n",
    "                historical_prices=True,\n",
    "                analyst_recommendations=True,\n",
    "                stock_price=True,\n",
    "                income_statements=True,\n",
    "                key_financial_ratios=True,\n",
    "                company_info=True\n",
    "            )\n",
    "        ],\n",
    "        instructions=[\n",
    "            f\"You are a financial analyst. Study financial data for stocks considered bullish today ({today}) and select the single most promising Indian stock for intraday or short-term trading.\"\n",
    "        ],\n",
    "        show_tools_calls=True,\n",
    "        markdown=True,\n",
    "    )"
   ]
  },
  {
   "cell_type": "code",
   "execution_count": null,
   "id": "80a88eae",
   "metadata": {},
   "outputs": [],
   "source": [
    "finsight_agent = Agent(\n",
    "        team=[web_agent, finance_agent],\n",
    "        tools= [YFinanceTools()],\n",
    "        instructions=[\n",
    "            f\"Based on the information and research done by your team as of {today}, return only NSE tickers that are available on Yahoo Finance (ending with .NS). Do not suggest BSE or delisted stocks. Do NOT include any other text, explanation, or formatting. Only output the ticker symbol, nothing else.\"\n",
    "        ],\n",
    "        show_tools_calls=True,\n",
    "        markdown=True,\n",
    "    )"
   ]
  },
  {
   "cell_type": "code",
   "execution_count": 6,
   "id": "3e2084de",
   "metadata": {},
   "outputs": [
    {
     "data": {
      "text/html": [
       "<pre style=\"white-space:pre;overflow-x:auto;line-height:normal;font-family:Menlo,'DejaVu Sans Mono',consolas,'Courier New',monospace\"><span style=\"color: #808000; text-decoration-color: #808000\">WARNING </span> Invalid message type: <span style=\"font-weight: bold\">&lt;</span><span style=\"color: #ff00ff; text-decoration-color: #ff00ff; font-weight: bold\">class</span><span style=\"color: #000000; text-decoration-color: #000000\"> </span><span style=\"color: #008000; text-decoration-color: #008000\">'phi.agent.agent.Agent'</span><span style=\"font-weight: bold\">&gt;</span>                                                     \n",
       "</pre>\n"
      ],
      "text/plain": [
       "\u001b[33mWARNING \u001b[0m Invalid message type: \u001b[1m<\u001b[0m\u001b[1;95mclass\u001b[0m\u001b[39m \u001b[0m\u001b[32m'phi.agent.agent.Agent'\u001b[0m\u001b[1m>\u001b[0m                                                     \n"
      ]
     },
     "metadata": {},
     "output_type": "display_data"
    },
    {
     "data": {
      "text/plain": [
       "RunResponse(content='**HDFCBANK.NS**', content_type='str', event='RunResponse', messages=[Message(role='developer', content='## You are the leader of a team of AI Agents.\\n  - You can either respond directly or transfer tasks to other Agents in your team depending on the tools available to them.\\n  - If you transfer a task to another Agent, make sure to include a clear description of the task and the expected output.\\n  - You must always validate the output of the other Agents before responding to the user, you can re-assign the task if you are not satisfied with the result.\\n\\n## Instructions\\n- Return only one stock ticker of the best bullish Indian stock for today. No explanation. Only the ticker symbol.\\n- Use markdown to format your answers.\\n\\n## Agents in your team:\\nYou can transfer tasks to the following agents:\\nAgent 1:\\nName: Web Agent\\nRole: Search the web for news about bullish Indian stocks\\nAvailable tools: duckduckgo_search, duckduckgo_news\\n\\nAgent 2:\\nName: Finance Agent\\nRole: Study the market and find the most bullish Indian stock today\\nAvailable tools: get_current_stock_price, get_company_info, get_income_statements, get_key_financial_ratios, get_analyst_recommendations, get_company_news, get_technical_indicators, get_historical_stock_prices', name=None, tool_call_id=None, tool_calls=None, audio=None, images=None, videos=None, tool_name=None, tool_args=None, tool_call_error=None, stop_after_tool_call=False, metrics={}, references=None, created_at=1749019574), Message(role='assistant', content=None, name=None, tool_call_id=None, tool_calls=[{'id': 'call_bhziYxxlQ8NDxutVUFfVlHgh', 'function': {'arguments': '{\"task_description\": \"Search the web for the most bullish Indian stocks today.\", \"expected_output\": \"The ticker symbol of the most bullish Indian stock.\", \"additional_information\": \"Focus on recent news and events that may indicate a bullish trend.\"}', 'name': 'transfer_task_to_web_agent'}, 'type': 'function'}, {'id': 'call_HuuVPO8Qd9O1TqGI7aNBIWOv', 'function': {'arguments': '{\"task_description\": \"Analyze the Indian stock market and identify the most bullish stock for today.\", \"expected_output\": \"The ticker symbol of the most bullish Indian stock.\", \"additional_information\": \"Consider technical indicators, recent stock price movements, and analyst recommendations.\"}', 'name': 'transfer_task_to_finance_agent'}, 'type': 'function'}], audio=None, images=None, videos=None, tool_name=None, tool_args=None, tool_call_error=None, stop_after_tool_call=False, metrics={'time': 6.560024799997336, 'input_tokens': 510, 'prompt_tokens': 510, 'output_tokens': 134, 'completion_tokens': 134, 'total_tokens': 644, 'prompt_tokens_details': {'audio_tokens': 0, 'cached_tokens': 0}, 'completion_tokens_details': {'accepted_prediction_tokens': 0, 'audio_tokens': 0, 'reasoning_tokens': 0, 'rejected_prediction_tokens': 0}}, references=None, created_at=1749019581), Message(role='tool', content=\"The most bullish Indian stock today could not be determined from the search results. Here are some top gainers in the Indian stock market today:\\n\\n* **Godrej Consumer Products**: ₹1,266.10 (0.00%) \\n* Other top gainers can be found on websites like TradingView, Finology, and Moneycontrol.\\n\\nPlease note that the stock market is highly volatile, and it's essential to do your own research and consider multiple factors before making any investment decisions.\\n\", name=None, tool_call_id='call_bhziYxxlQ8NDxutVUFfVlHgh', tool_calls=None, audio=None, images=None, videos=None, tool_name='transfer_task_to_web_agent', tool_args={'task_description': 'Search the web for the most bullish Indian stocks today.', 'expected_output': 'The ticker symbol of the most bullish Indian stock.', 'additional_information': 'Focus on recent news and events that may indicate a bullish trend.'}, tool_call_error=False, stop_after_tool_call=False, metrics={'time': 7.09187170000223}, references=None, created_at=1749019588), Message(role='tool', content='Based on the analysis of technical indicators, recent stock price movements, and analyst recommendations for today:\\n\\n1. **HDFC Bank (HDFCBANK.NS)**\\n   - **Price Movement:** Opened at 1921.00 INR, closed at 1940.00 INR.\\n   - **Volume:** 3,169,765 shares.\\n   - **Analyst Recommendations:** \\n     - Strong Buy: 10\\n     - Buy: 28\\n     - Hold: 3\\n     - Sell: 0\\n     - Strong Sell: 0\\n\\nHDFC Bank exhibits a strong bullish behavior today, with significant analyst support in terms of Buy and Strong Buy recommendations and a positive price movement.\\n\\n**The most bullish Indian stock today is:** **HDFC Bank (HDFCBANK.NS)**\\n', name=None, tool_call_id='call_HuuVPO8Qd9O1TqGI7aNBIWOv', tool_calls=None, audio=None, images=None, videos=None, tool_name='transfer_task_to_finance_agent', tool_args={'task_description': 'Analyze the Indian stock market and identify the most bullish stock for today.', 'expected_output': 'The ticker symbol of the most bullish Indian stock.', 'additional_information': 'Consider technical indicators, recent stock price movements, and analyst recommendations.'}, tool_call_error=False, stop_after_tool_call=False, metrics={'time': 19.362614600002416}, references=None, created_at=1749019607), Message(role='assistant', content='**HDFCBANK.NS**', name=None, tool_call_id=None, tool_calls=None, audio=None, images=None, videos=None, tool_name=None, tool_args=None, tool_call_error=None, stop_after_tool_call=False, metrics={'time': 1.8493224999983795, 'input_tokens': 941, 'prompt_tokens': 941, 'output_tokens': 9, 'completion_tokens': 9, 'total_tokens': 950, 'prompt_tokens_details': {'audio_tokens': 0, 'cached_tokens': 0}, 'completion_tokens_details': {'accepted_prediction_tokens': 0, 'audio_tokens': 0, 'reasoning_tokens': 0, 'rejected_prediction_tokens': 0}}, references=None, created_at=1749019609)], metrics=defaultdict(<class 'list'>, {'time': [6.560024799997336, 1.8493224999983795], 'input_tokens': [510, 941], 'prompt_tokens': [510, 941], 'output_tokens': [134, 9], 'completion_tokens': [134, 9], 'total_tokens': [644, 950], 'prompt_tokens_details': [{'audio_tokens': 0, 'cached_tokens': 0}, {'audio_tokens': 0, 'cached_tokens': 0}], 'completion_tokens_details': [{'accepted_prediction_tokens': 0, 'audio_tokens': 0, 'reasoning_tokens': 0, 'rejected_prediction_tokens': 0}, {'accepted_prediction_tokens': 0, 'audio_tokens': 0, 'reasoning_tokens': 0, 'rejected_prediction_tokens': 0}]}), model='gpt-4o', run_id='4c705501-d4ca-4743-88ba-491bfbfd598b', agent_id='970da657-256a-4f43-8cff-7544c354dc81', session_id='360a85da-b047-4882-b89a-344182e1920f', workflow_id=None, tools=None, images=None, videos=None, audio=None, response_audio=None, extra_data=None, created_at=1749019565)"
      ]
     },
     "execution_count": 6,
     "metadata": {},
     "output_type": "execute_result"
    }
   ],
   "source": [
    "finsight_agent.run(finsight_agent)\n"
   ]
  },
  {
   "cell_type": "code",
   "execution_count": null,
   "id": "f394a75e",
   "metadata": {},
   "outputs": [],
   "source": []
  }
 ],
 "metadata": {
  "kernelspec": {
   "display_name": "FinSight",
   "language": "python",
   "name": "python3"
  },
  "language_info": {
   "codemirror_mode": {
    "name": "ipython",
    "version": 3
   },
   "file_extension": ".py",
   "mimetype": "text/x-python",
   "name": "python",
   "nbconvert_exporter": "python",
   "pygments_lexer": "ipython3",
   "version": "3.13.3"
  }
 },
 "nbformat": 4,
 "nbformat_minor": 5
}
