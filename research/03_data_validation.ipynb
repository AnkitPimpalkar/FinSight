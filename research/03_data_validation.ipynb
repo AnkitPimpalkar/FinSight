{
 "cells": [
  {
   "cell_type": "code",
   "execution_count": null,
   "id": "238bb477",
   "metadata": {},
   "outputs": [
    {
     "data": {
      "text/plain": [
       "'C:\\\\Projects\\\\FinSight'"
      ]
     },
     "execution_count": 53,
     "metadata": {},
     "output_type": "execute_result"
    }
   ],
   "source": [
    "import os\n",
    "#os.chdir(r'C:\\Projects\\FinSight')\n",
    "%pwd\n"
   ]
  },
  {
   "cell_type": "code",
   "execution_count": 54,
   "id": "bf657397",
   "metadata": {},
   "outputs": [],
   "source": [
    "import pandas as pd"
   ]
  },
  {
   "cell_type": "code",
   "execution_count": 55,
   "id": "ac1fcaee",
   "metadata": {},
   "outputs": [],
   "source": [
    "data = pd.read_csv(\"artifacts/data_ingestion/raw_data.csv\")\n"
   ]
  },
  {
   "cell_type": "code",
   "execution_count": 56,
   "id": "1e5396da",
   "metadata": {},
   "outputs": [
    {
     "name": "stdout",
     "output_type": "stream",
     "text": [
      "<class 'pandas.core.frame.DataFrame'>\n",
      "RangeIndex: 105 entries, 0 to 104\n",
      "Data columns (total 7 columns):\n",
      " #   Column    Non-Null Count  Dtype  \n",
      "---  ------    --------------  -----  \n",
      " 0   Ticker    105 non-null    object \n",
      " 1   Datetime  105 non-null    object \n",
      " 2   Open      105 non-null    float64\n",
      " 3   High      105 non-null    float64\n",
      " 4   Low       105 non-null    float64\n",
      " 5   Close     105 non-null    float64\n",
      " 6   Volume    105 non-null    int64  \n",
      "dtypes: float64(4), int64(1), object(2)\n",
      "memory usage: 5.9+ KB\n"
     ]
    }
   ],
   "source": [
    "data.info()"
   ]
  },
  {
   "cell_type": "code",
   "execution_count": 57,
   "id": "3f31f519",
   "metadata": {},
   "outputs": [
    {
     "data": {
      "text/html": [
       "<div>\n",
       "<style scoped>\n",
       "    .dataframe tbody tr th:only-of-type {\n",
       "        vertical-align: middle;\n",
       "    }\n",
       "\n",
       "    .dataframe tbody tr th {\n",
       "        vertical-align: top;\n",
       "    }\n",
       "\n",
       "    .dataframe thead th {\n",
       "        text-align: right;\n",
       "    }\n",
       "</style>\n",
       "<table border=\"1\" class=\"dataframe\">\n",
       "  <thead>\n",
       "    <tr style=\"text-align: right;\">\n",
       "      <th></th>\n",
       "      <th>Open</th>\n",
       "      <th>High</th>\n",
       "      <th>Low</th>\n",
       "      <th>Close</th>\n",
       "      <th>Volume</th>\n",
       "    </tr>\n",
       "  </thead>\n",
       "  <tbody>\n",
       "    <tr>\n",
       "      <th>count</th>\n",
       "      <td>105.000000</td>\n",
       "      <td>105.000000</td>\n",
       "      <td>105.000000</td>\n",
       "      <td>105.000000</td>\n",
       "      <td>1.050000e+02</td>\n",
       "    </tr>\n",
       "    <tr>\n",
       "      <th>mean</th>\n",
       "      <td>1430.235242</td>\n",
       "      <td>1433.979049</td>\n",
       "      <td>1426.750480</td>\n",
       "      <td>1430.015240</td>\n",
       "      <td>1.172607e+06</td>\n",
       "    </tr>\n",
       "    <tr>\n",
       "      <th>std</th>\n",
       "      <td>16.147341</td>\n",
       "      <td>15.891543</td>\n",
       "      <td>16.275826</td>\n",
       "      <td>16.095678</td>\n",
       "      <td>9.293324e+05</td>\n",
       "    </tr>\n",
       "    <tr>\n",
       "      <th>min</th>\n",
       "      <td>1400.199951</td>\n",
       "      <td>1406.300049</td>\n",
       "      <td>1395.900024</td>\n",
       "      <td>1400.199951</td>\n",
       "      <td>0.000000e+00</td>\n",
       "    </tr>\n",
       "    <tr>\n",
       "      <th>25%</th>\n",
       "      <td>1415.000000</td>\n",
       "      <td>1419.599976</td>\n",
       "      <td>1411.900024</td>\n",
       "      <td>1415.099976</td>\n",
       "      <td>6.619600e+05</td>\n",
       "    </tr>\n",
       "    <tr>\n",
       "      <th>50%</th>\n",
       "      <td>1429.000000</td>\n",
       "      <td>1432.900024</td>\n",
       "      <td>1424.699951</td>\n",
       "      <td>1429.000000</td>\n",
       "      <td>9.286360e+05</td>\n",
       "    </tr>\n",
       "    <tr>\n",
       "      <th>75%</th>\n",
       "      <td>1445.500000</td>\n",
       "      <td>1448.000000</td>\n",
       "      <td>1441.699951</td>\n",
       "      <td>1443.400024</td>\n",
       "      <td>1.390291e+06</td>\n",
       "    </tr>\n",
       "    <tr>\n",
       "      <th>max</th>\n",
       "      <td>1462.099976</td>\n",
       "      <td>1468.199951</td>\n",
       "      <td>1461.099976</td>\n",
       "      <td>1462.199951</td>\n",
       "      <td>4.958397e+06</td>\n",
       "    </tr>\n",
       "  </tbody>\n",
       "</table>\n",
       "</div>"
      ],
      "text/plain": [
       "              Open         High          Low        Close        Volume\n",
       "count   105.000000   105.000000   105.000000   105.000000  1.050000e+02\n",
       "mean   1430.235242  1433.979049  1426.750480  1430.015240  1.172607e+06\n",
       "std      16.147341    15.891543    16.275826    16.095678  9.293324e+05\n",
       "min    1400.199951  1406.300049  1395.900024  1400.199951  0.000000e+00\n",
       "25%    1415.000000  1419.599976  1411.900024  1415.099976  6.619600e+05\n",
       "50%    1429.000000  1432.900024  1424.699951  1429.000000  9.286360e+05\n",
       "75%    1445.500000  1448.000000  1441.699951  1443.400024  1.390291e+06\n",
       "max    1462.099976  1468.199951  1461.099976  1462.199951  4.958397e+06"
      ]
     },
     "execution_count": 57,
     "metadata": {},
     "output_type": "execute_result"
    }
   ],
   "source": [
    "data.describe()"
   ]
  },
  {
   "cell_type": "code",
   "execution_count": 58,
   "id": "a3869904",
   "metadata": {},
   "outputs": [
    {
     "data": {
      "text/plain": [
       "Ticker      0\n",
       "Datetime    0\n",
       "Open        0\n",
       "High        0\n",
       "Low         0\n",
       "Close       0\n",
       "Volume      0\n",
       "dtype: int64"
      ]
     },
     "execution_count": 58,
     "metadata": {},
     "output_type": "execute_result"
    }
   ],
   "source": [
    "data.isna().sum()"
   ]
  },
  {
   "cell_type": "code",
   "execution_count": 59,
   "id": "1fe3c0fe",
   "metadata": {},
   "outputs": [],
   "source": [
    "from dataclasses import dataclass\n",
    "from pathlib import Path\n",
    "\n",
    "@dataclass(frozen=True)\n",
    "class DataValidationConfig:\n",
    "    root_dir: Path\n",
    "    STATUS_FILE: str\n",
    "    data: Path\n",
    "    all_schemas: dict"
   ]
  },
  {
   "cell_type": "code",
   "execution_count": 60,
   "id": "c603e788",
   "metadata": {},
   "outputs": [],
   "source": [
    "from finance_ml.constants import *\n",
    "from finance_ml.utils.common import read_yaml, create_directories"
   ]
  },
  {
   "cell_type": "code",
   "execution_count": 61,
   "id": "ad321740",
   "metadata": {},
   "outputs": [],
   "source": [
    "# src/finance_ml/config/configuration.py\n",
    "\n",
    "class ConfigurationManager:\n",
    "    def __init__(\n",
    "        self,\n",
    "        config_filepath=CONFIG_FILE_PATH,\n",
    "        params_filepath=PARAMS_FILE_PATH,\n",
    "        schema_filepath=SCHEMA_FILE_PATH\n",
    "    ):\n",
    "        self.config = read_yaml(config_filepath)\n",
    "        self.params = read_yaml(params_filepath)\n",
    "        self.schema = read_yaml(schema_filepath)\n",
    "\n",
    "        create_directories([self.config.artifacts_root])\n",
    "\n",
    "    def get_data_validation_config(self) -> DataValidationConfig:\n",
    "        config = self.config.data_Validation\n",
    "        schema = self.schema.COLUMNS\n",
    "\n",
    "        create_directories([config.root_dir])\n",
    "\n",
    "        data_Validation_config = DataValidationConfig(\n",
    "            root_dir= config.root_dir,\n",
    "            STATUS_FILE= config.STATUS_FILE,\n",
    "            data= config.data,\n",
    "            all_schemas= schema  \n",
    "        )\n",
    "\n",
    "        return data_Validation_config"
   ]
  },
  {
   "cell_type": "code",
   "execution_count": 62,
   "id": "8b0eea1f",
   "metadata": {},
   "outputs": [],
   "source": [
    "import os\n",
    "from finance_ml import logger"
   ]
  },
  {
   "cell_type": "code",
   "execution_count": 63,
   "id": "a92c94e4",
   "metadata": {},
   "outputs": [],
   "source": [
    "class DataValidation:\n",
    "    def __init__(self, config: DataValidationConfig):\n",
    "        self.config = config\n",
    "\n",
    "    def validate_all_columns(self) -> bool:\n",
    "        try:\n",
    "            validation_status = True\n",
    "            data = pd.read_csv(self.config.data)\n",
    "            all_cols = list(data.columns)\n",
    "            all_schema = self.config.all_schemas\n",
    "\n",
    "            for col in all_schema:\n",
    "                if col not in all_cols: \n",
    "                    validation_status = False\n",
    "                    break\n",
    "\n",
    "         \n",
    "            for col, expected_type in all_schema.items():\n",
    "                if col in data.columns:\n",
    "                    actual_type = str(data[col].dtype)\n",
    "                    if actual_type != expected_type:\n",
    "                        validation_status = False\n",
    "                        break\n",
    "\n",
    "            with open(self.config.STATUS_FILE, 'w') as f:\n",
    "                f.write(f\"Validation status: {validation_status}\")\n",
    "\n",
    "            return validation_status\n",
    "        except Exception as e:\n",
    "            raise e"
   ]
  },
  {
   "cell_type": "code",
   "execution_count": 64,
   "id": "ec25eb8a",
   "metadata": {},
   "outputs": [
    {
     "name": "stdout",
     "output_type": "stream",
     "text": [
      "[2025-06-14 17:29:40,003: INFO: common: yaml file: config\\config.yaml loaded successfully]\n",
      "[2025-06-14 17:29:40,015: INFO: common: yaml file: params.yaml loaded successfully]\n",
      "[2025-06-14 17:29:40,023: INFO: common: yaml file: schema.yaml loaded successfully]\n",
      "[2025-06-14 17:29:40,028: INFO: common: created directory at: artifacts]\n",
      "[2025-06-14 17:29:40,031: INFO: common: created directory at: artifacts/data_validation]\n"
     ]
    }
   ],
   "source": [
    "try:\n",
    "    config = ConfigurationManager()\n",
    "    data_validation_config = config.get_data_validation_config()\n",
    "    data_validation = DataValidation(config=data_validation_config)\n",
    "    data_validation.validate_all_columns()\n",
    "except Exception as e:\n",
    "    raise e"
   ]
  }
 ],
 "metadata": {
  "kernelspec": {
   "display_name": "FinSight",
   "language": "python",
   "name": "python3"
  },
  "language_info": {
   "codemirror_mode": {
    "name": "ipython",
    "version": 3
   },
   "file_extension": ".py",
   "mimetype": "text/x-python",
   "name": "python",
   "nbconvert_exporter": "python",
   "pygments_lexer": "ipython3",
   "version": "3.11.0"
  }
 },
 "nbformat": 4,
 "nbformat_minor": 5
}
