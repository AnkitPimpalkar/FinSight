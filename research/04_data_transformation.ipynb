{
 "cells": [
  {
   "cell_type": "code",
   "execution_count": 1,
   "id": "05fb16f6",
   "metadata": {},
   "outputs": [
    {
     "data": {
      "text/plain": [
       "'\\ndata_transformation:\\n  root_dir: artifacts/data_transformation\\n  raw_data_file: raw_data.csv\\n\\n'"
      ]
     },
     "execution_count": 1,
     "metadata": {},
     "output_type": "execute_result"
    }
   ],
   "source": [
    "#config.yaml\n",
    "'''\n",
    "data_transformation:\n",
    "  root_dir: artifacts/data_transformation\n",
    "  raw_data_file: raw_data.csv\n",
    "\n",
    "'''"
   ]
  },
  {
   "cell_type": "code",
   "execution_count": 2,
   "id": "940a6f76",
   "metadata": {},
   "outputs": [],
   "source": [
    "## finance_ml.entity.config_entity \n",
    "\n",
    "from dataclasses import dataclass\n",
    "from pathlib import Path\n",
    "\n",
    "@dataclass(frozen=True)\n",
    "class DataTransformationConfig:\n",
    "    root_dir: Path\n",
    "    raw_data_file: str\n"
   ]
  },
  {
   "cell_type": "code",
   "execution_count": 2,
   "id": "25de3b77",
   "metadata": {},
   "outputs": [
    {
     "ename": "NameError",
     "evalue": "name 'DataTransformationConfig' is not defined",
     "output_type": "error",
     "traceback": [
      "\u001b[31m---------------------------------------------------------------------------\u001b[39m",
      "\u001b[31mNameError\u001b[39m                                 Traceback (most recent call last)",
      "\u001b[36mCell\u001b[39m\u001b[36m \u001b[39m\u001b[32mIn[2]\u001b[39m\u001b[32m, line 8\u001b[39m\n\u001b[32m      5\u001b[39m \u001b[38;5;66;03m# from finance_ml.entity.config_entity import DataTransformationConfig\u001b[39;00m\n\u001b[32m      6\u001b[39m \u001b[38;5;28;01mimport\u001b[39;00m\u001b[38;5;250m \u001b[39m\u001b[34;01mos\u001b[39;00m\n\u001b[32m----> \u001b[39m\u001b[32m8\u001b[39m \u001b[38;5;28;43;01mclass\u001b[39;49;00m\u001b[38;5;250;43m \u001b[39;49m\u001b[34;43;01mConfigurationManager\u001b[39;49;00m\u001b[43m:\u001b[49m\n\u001b[32m      9\u001b[39m \u001b[43m    \u001b[49m\u001b[38;5;28;43;01mdef\u001b[39;49;00m\u001b[38;5;250;43m \u001b[39;49m\u001b[34;43m__init__\u001b[39;49m\u001b[43m(\u001b[49m\n\u001b[32m     10\u001b[39m \u001b[43m        \u001b[49m\u001b[38;5;28;43mself\u001b[39;49m\u001b[43m,\u001b[49m\n\u001b[32m     11\u001b[39m \u001b[43m        \u001b[49m\u001b[43mconfig_filepath\u001b[49m\u001b[43m=\u001b[49m\u001b[43mCONFIG_FILE_PATH\u001b[49m\u001b[43m,\u001b[49m\n\u001b[32m     12\u001b[39m \u001b[43m        \u001b[49m\u001b[43mparams_filepath\u001b[49m\u001b[43m=\u001b[49m\u001b[43mPARAMS_FILE_PATH\u001b[49m\u001b[43m,\u001b[49m\n\u001b[32m     13\u001b[39m \u001b[43m        \u001b[49m\u001b[43mschema_filepath\u001b[49m\u001b[43m=\u001b[49m\u001b[43mSCHEMA_FILE_PATH\u001b[49m\n\u001b[32m     14\u001b[39m \u001b[43m    \u001b[49m\u001b[43m)\u001b[49m\u001b[43m:\u001b[49m\n\u001b[32m     15\u001b[39m \u001b[43m        \u001b[49m\u001b[38;5;28;43mself\u001b[39;49m\u001b[43m.\u001b[49m\u001b[43mconfig\u001b[49m\u001b[43m \u001b[49m\u001b[43m=\u001b[49m\u001b[43m \u001b[49m\u001b[43mread_yaml\u001b[49m\u001b[43m(\u001b[49m\u001b[43mconfig_filepath\u001b[49m\u001b[43m)\u001b[49m\n",
      "\u001b[36mCell\u001b[39m\u001b[36m \u001b[39m\u001b[32mIn[2]\u001b[39m\u001b[32m, line 21\u001b[39m, in \u001b[36mConfigurationManager\u001b[39m\u001b[34m()\u001b[39m\n\u001b[32m     17\u001b[39m     \u001b[38;5;28mself\u001b[39m.schema = read_yaml(schema_filepath)\n\u001b[32m     19\u001b[39m     create_directories([\u001b[38;5;28mself\u001b[39m.config.artifacts_root]) \n\u001b[32m---> \u001b[39m\u001b[32m21\u001b[39m \u001b[38;5;28;01mdef\u001b[39;00m\u001b[38;5;250m \u001b[39m\u001b[34mget_data_transformation_config\u001b[39m(\u001b[38;5;28mself\u001b[39m) -> \u001b[43mDataTransformationConfig\u001b[49m: \u001b[38;5;66;03m# Add this method\u001b[39;00m\n\u001b[32m     22\u001b[39m     config = \u001b[38;5;28mself\u001b[39m.config.data_transformation\n\u001b[32m     24\u001b[39m     create_directories([config.root_dir])\n",
      "\u001b[31mNameError\u001b[39m: name 'DataTransformationConfig' is not defined"
     ]
    }
   ],
   "source": [
    "# src/finance_ml/config/configuration.py\n",
    "\n",
    "from finance_ml.constants import *\n",
    "from finance_ml.utils.common import read_yaml, create_directories\n",
    "# from finance_ml.entity.config_entity import DataTransformationConfig\n",
    "import os\n",
    "\n",
    "class ConfigurationManager:\n",
    "    def __init__(\n",
    "        self,\n",
    "        config_filepath=CONFIG_FILE_PATH,\n",
    "        params_filepath=PARAMS_FILE_PATH,\n",
    "        schema_filepath=SCHEMA_FILE_PATH\n",
    "    ):\n",
    "        self.config = read_yaml(config_filepath)\n",
    "        self.params = read_yaml(params_filepath)\n",
    "        self.schema = read_yaml(schema_filepath)\n",
    "\n",
    "        create_directories([self.config.artifacts_root]) \n",
    "\n",
    "    def get_data_transformation_config(self) -> DataTransformationConfig: # Add this method\n",
    "        config = self.config.data_transformation\n",
    "\n",
    "        create_directories([config.root_dir])\n",
    "\n",
    "        data_transformation_config = DataTransformationConfig(\n",
    "            root_dir=config.root_dir,\n",
    "            raw_data_file=config.raw_data_file # Use the raw_data_file from config\n",
    "        )\n",
    "\n",
    "        return data_transformation_config"
   ]
  },
  {
   "cell_type": "code",
   "execution_count": 3,
   "id": "90596978",
   "metadata": {},
   "outputs": [
    {
     "ename": "NameError",
     "evalue": "name 'DataTransformationConfig' is not defined",
     "output_type": "error",
     "traceback": [
      "\u001b[31m---------------------------------------------------------------------------\u001b[39m",
      "\u001b[31mNameError\u001b[39m                                 Traceback (most recent call last)",
      "\u001b[36mCell\u001b[39m\u001b[36m \u001b[39m\u001b[32mIn[3]\u001b[39m\u001b[32m, line 10\u001b[39m\n\u001b[32m      7\u001b[39m \u001b[38;5;28;01mfrom\u001b[39;00m\u001b[38;5;250m \u001b[39m\u001b[34;01mjoblib\u001b[39;00m\u001b[38;5;250m \u001b[39m\u001b[38;5;28;01mimport\u001b[39;00m dump \u001b[38;5;66;03m# Import dump to save the scaler\u001b[39;00m\n\u001b[32m      8\u001b[39m \u001b[38;5;28;01mfrom\u001b[39;00m\u001b[38;5;250m \u001b[39m\u001b[34;01mfinance_ml\u001b[39;00m\u001b[38;5;250m \u001b[39m\u001b[38;5;28;01mimport\u001b[39;00m logger \u001b[38;5;66;03m# Import logger for logging within the component\u001b[39;00m\n\u001b[32m---> \u001b[39m\u001b[32m10\u001b[39m \u001b[38;5;28;43;01mclass\u001b[39;49;00m\u001b[38;5;250;43m \u001b[39;49m\u001b[34;43;01mDataTransformation\u001b[39;49;00m\u001b[43m:\u001b[49m\n\u001b[32m     11\u001b[39m \u001b[43m    \u001b[49m\u001b[38;5;28;43;01mdef\u001b[39;49;00m\u001b[38;5;250;43m \u001b[39;49m\u001b[34;43m__init__\u001b[39;49m\u001b[43m(\u001b[49m\u001b[38;5;28;43mself\u001b[39;49m\u001b[43m,\u001b[49m\u001b[43m \u001b[49m\u001b[43mconfig\u001b[49m\u001b[43m:\u001b[49m\u001b[43m \u001b[49m\u001b[43mDataTransformationConfig\u001b[49m\u001b[43m)\u001b[49m\u001b[43m:\u001b[49m\n\u001b[32m     12\u001b[39m \u001b[43m        \u001b[49m\u001b[38;5;28;43mself\u001b[39;49m\u001b[43m.\u001b[49m\u001b[43mconfig\u001b[49m\u001b[43m \u001b[49m\u001b[43m=\u001b[49m\u001b[43m \u001b[49m\u001b[43mconfig\u001b[49m\n",
      "\u001b[36mCell\u001b[39m\u001b[36m \u001b[39m\u001b[32mIn[3]\u001b[39m\u001b[32m, line 11\u001b[39m, in \u001b[36mDataTransformation\u001b[39m\u001b[34m()\u001b[39m\n\u001b[32m     10\u001b[39m \u001b[38;5;28;01mclass\u001b[39;00m\u001b[38;5;250m \u001b[39m\u001b[34;01mDataTransformation\u001b[39;00m:\n\u001b[32m---> \u001b[39m\u001b[32m11\u001b[39m     \u001b[38;5;28;01mdef\u001b[39;00m\u001b[38;5;250m \u001b[39m\u001b[34m__init__\u001b[39m(\u001b[38;5;28mself\u001b[39m, config: \u001b[43mDataTransformationConfig\u001b[49m):\n\u001b[32m     12\u001b[39m         \u001b[38;5;28mself\u001b[39m.config = config\n\u001b[32m     14\u001b[39m     \u001b[38;5;28;01mdef\u001b[39;00m\u001b[38;5;250m \u001b[39m\u001b[34mtransform_and_save_data\u001b[39m(\u001b[38;5;28mself\u001b[39m, feature=\u001b[33m\"\u001b[39m\u001b[33mClose\u001b[39m\u001b[33m\"\u001b[39m, lookback=\u001b[32m60\u001b[39m, split_ratio=\u001b[32m0.95\u001b[39m):\n",
      "\u001b[31mNameError\u001b[39m: name 'DataTransformationConfig' is not defined"
     ]
    }
   ],
   "source": [
    "# from finance_ml.entity.config_entity import DataTransformationConfig\n",
    "from sklearn.preprocessing import StandardScaler\n",
    "import numpy as np\n",
    "import pandas as pd\n",
    "import os\n",
    "import traceback\n",
    "from joblib import dump # Import dump to save the scaler\n",
    "from finance_ml import logger # Import logger for logging within the component\n",
    "\n",
    "class DataTransformation:\n",
    "    def __init__(self, config: DataTransformationConfig):\n",
    "        self.config = config\n",
    "\n",
    "    def transform_and_save_data(self, feature=\"Close\", lookback=60, split_ratio=0.95):\n",
    "        \"\"\"\n",
    "        Loads raw data, transforms it, and saves the transformed data and scaler.\n",
    "\n",
    "        Args:\n",
    "            feature (str): The feature column to use for transformation (default 'close').\n",
    "            lookback (int): Number of previous time steps to use for prediction (default 60).\n",
    "            split_ratio (float): Ratio for splitting data into training and testing sets (default 0.95).\n",
    "        \"\"\"\n",
    "        raw_data_path = self.config.raw_data_file\n",
    "\n",
    "        df = pd.read_csv(raw_data_path)\n",
    "        logger.info(f\"Raw data loaded from: {raw_data_path}\")\n",
    "\n",
    "        df['Datetime'] = pd.to_datetime(df['Datetime'])\n",
    "        data = df[[feature]].copy()\n",
    "        values = data.values\n",
    "\n",
    "        scaler = StandardScaler()\n",
    "        scaled_data = scaler.fit_transform(values)\n",
    "\n",
    "        training_data_len = int(len(scaled_data) * split_ratio)\n",
    "\n",
    "        train_data = scaled_data[:training_data_len]\n",
    "        test_data = scaled_data[training_data_len - lookback:]\n",
    "\n",
    "        def create_sequences(data):\n",
    "            X, y = [], []\n",
    "            for i in range(lookback, len(data)):\n",
    "                X.append(data[i - lookback:i, 0])\n",
    "                y.append(data[i, 0])\n",
    "            return np.array(X), np.array(y)\n",
    "\n",
    "        X_train, y_train = create_sequences(train_data)\n",
    "        X_test, y_test = create_sequences(test_data)\n",
    "\n",
    "        X_train = X_train.reshape((X_train.shape[0], X_train.shape[1], 1))\n",
    "        X_test = X_test.reshape((X_test.shape[0], X_test.shape[1], 1))\n",
    "\n",
    "        try:\n",
    "        # Save transformed data and scaler\n",
    "            np.save(os.path.join(self.config.root_dir, 'X_train.npy'), X_train)\n",
    "            np.save(os.path.join(self.config.root_dir, 'y_train.npy'), y_train)\n",
    "            np.save(os.path.join(self.config.root_dir, 'X_test.npy'), X_test)\n",
    "            np.save(os.path.join(self.config.root_dir, 'y_test.npy'), y_test)\n",
    "            dump(scaler, os.path.join(self.config.root_dir, 'scaler.joblib')) # Save the scaler\n",
    "\n",
    "            logger.info(\"Transformed data and scaler saved.\")\n",
    "        except Exception as e:\n",
    "            logger.error(f\"Error saving transformed data: {e}\")\n",
    "            logger.error(traceback.format_exc())"
   ]
  },
  {
   "cell_type": "code",
   "execution_count": null,
   "id": "5bde12eb",
   "metadata": {},
   "outputs": [],
   "source": [
    "#src/finance_ml/pipeline/stage_04_data_transformation.py\n",
    "\n",
    "from finance_ml.config.configuration import ConfigurationManager\n",
    "# from finance_ml.component.data_transformation import DataTransformation\n",
    "from finance_ml import logger\n",
    "import os # Keep os for potentially joining paths if needed within the component\n",
    "\n",
    "STAGE_NAME = \"Data Transformation stage\"\n",
    "\n",
    "class DataTransformationTrainingPipeline:\n",
    "    def __init__(self):\n",
    "        pass\n",
    "\n",
    "    def main(self):\n",
    "        try:\n",
    "            with open(Path(\"artifacts/data_validation/status.txt\"), \"r\")as f:\n",
    "                status = f.read().split(\" \")[-1]\n",
    "\n",
    "            if status == \"True\":\n",
    "                config = ConfigurationManager()\n",
    "                data_transformation_config = config.get_data_transformation_config()\n",
    "                data_transformation = DataTransformation(config=data_transformation_config)\n",
    "                data_transformation.transform_and_save_data() # Call a dedicated method in the component\n",
    "\n",
    "            else:\n",
    "                raise Exception(\"Data schema is not valid\")\n",
    "        except Exception as e:\n",
    "            print (e)\n",
    "\n",
    "# Example of how to run this stage\n",
    "if __name__ == '__main__':\n",
    "    try:\n",
    "        logger.info(f\">>>>>> stage {STAGE_NAME} started <<<<<<\")\n",
    "        obj = DataTransformationTrainingPipeline()\n",
    "        obj.main()\n",
    "        logger.info(f\">>>>>> stage {STAGE_NAME} completed <<<<<<\\n\\nx==========x\")\n",
    "    except Exception as e:\n",
    "        logger.exception(e)\n",
    "        raise e"
   ]
  }
 ],
 "metadata": {
  "kernelspec": {
   "display_name": "FinSight",
   "language": "python",
   "name": "python3"
  },
  "language_info": {
   "codemirror_mode": {
    "name": "ipython",
    "version": 3
   },
   "file_extension": ".py",
   "mimetype": "text/x-python",
   "name": "python",
   "nbconvert_exporter": "python",
   "pygments_lexer": "ipython3",
   "version": "3.11.0"
  }
 },
 "nbformat": 4,
 "nbformat_minor": 5
}
